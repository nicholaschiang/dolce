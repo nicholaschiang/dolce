{
 "cells": [
  {
   "cell_type": "markdown",
   "id": "6b82c25f-ac1f-4447-b6b3-6f825ca1c888",
   "metadata": {},
   "source": [
    "# Dolce\n",
    "\n",
    "A little scratchpad to work with ideas before implementing them in frontend code."
   ]
  },
  {
   "cell_type": "code",
   "execution_count": 21,
   "id": "7af2f897-9394-46e5-8158-8daba36bcb7a",
   "metadata": {},
   "outputs": [],
   "source": [
    "from prisma import Prisma\n",
    "db = Prisma()\n",
    "db.connect()"
   ]
  },
  {
   "cell_type": "code",
   "execution_count": 34,
   "id": "4e0c63b3-caee-49e6-bb9a-3ecf59738867",
   "metadata": {
    "scrolled": true
   },
   "outputs": [
    {
     "data": {
      "text/html": [
       "<img src=\"https://scontent-sjc3-1.cdninstagram.com/v/t51.2885-15/403837287_724933635744668_5244544706215626089_n.jpg?stp=dst-jpg_e35&_nc_ht=scontent-sjc3-1.cdninstagram.com&_nc_cat=108&_nc_ohc=fe0qsZPMhaAAX_w4SyJ&edm=AJqaXLUBAAAA&ccb=7-5&ig_cache_key=MzI0MTExMjAzOTU3NzMyNzYyNg%3D%3D.2-ccb7-5&oh=00_AfAy_qIIkxmA3iFod9nN1ELI0NquuGknp5I0GdZ1m14jgA&oe=65646751&_nc_sid=7b930e\"/>"
      ],
      "text/plain": [
       "<IPython.core.display.Image object>"
      ]
     },
     "metadata": {},
     "output_type": "display_data"
    },
    {
     "data": {
      "text/html": [
       "<img src=\"https://scontent-sjc3-1.cdninstagram.com/v/t39.30808-6/404504088_18399963286027200_5173609384321167778_n.jpg?stp=dst-jpg_e35_p1080x1080_sh0.08&_nc_ht=scontent-sjc3-1.cdninstagram.com&_nc_cat=100&_nc_ohc=NjH-mCKOpREAX-CW_42&edm=AJqaXLUAAAAA&ccb=7-5&ig_cache_key=MzI0MTA4MjU4OTcyMzc1MjcyOQ%3D%3D.2-ccb7-5&oh=00_AfA9q4c-O4pnbc7QNCTENaeusNAG_Cm7DngldLROqz9TVQ&oe=656414C0&_nc_sid=7b930e\"/>"
      ],
      "text/plain": [
       "<IPython.core.display.Image object>"
      ]
     },
     "metadata": {},
     "output_type": "display_data"
    },
    {
     "data": {
      "text/html": [
       "<img src=\"https://scontent-sjc3-1.cdninstagram.com/v/t51.2885-15/403764198_2087595684932903_3405109767314847458_n.jpg?stp=dst-jpg_e35&efg=eyJ2ZW5jb2RlX3RhZyI6ImltYWdlX3VybGdlbi4xMDgweDEzNTAuc2RyIn0&_nc_ht=scontent-sjc3-1.cdninstagram.com&_nc_cat=111&_nc_ohc=OfuJMloOGsYAX9kDuW7&edm=AJqaXLUBAAAA&ccb=7-5&ig_cache_key=MzI0MDg0NjYyMzAzNzg2MTQ5Nw%3D%3D.2-ccb7-5&oh=00_AfDOO205mim88D1HP8jzM_7CFTNAyHkw_XieEYAPlg9GBA&oe=656481F3&_nc_sid=7b930e\"/>"
      ],
      "text/plain": [
       "<IPython.core.display.Image object>"
      ]
     },
     "metadata": {},
     "output_type": "display_data"
    },
    {
     "data": {
      "text/html": [
       "<img src=\"https://scontent-sjc3-1.cdninstagram.com/v/t51.2885-15/385802916_869627004187110_1882434450859622581_n.jpg?stp=dst-jpg_e15&efg=eyJ2ZW5jb2RlX3RhZyI6ImltYWdlX3VybGdlbi43MjB4MTI3OC5zZHIifQ&_nc_ht=scontent-sjc3-1.cdninstagram.com&_nc_cat=106&_nc_ohc=ZNN3TYo337oAX_AqCLO&edm=AJqaXLUBAAAA&ccb=7-5&ig_cache_key=MzIwNjI4NTY0OTk4MzY3MTc0NA%3D%3D.2-ccb7-5&oh=00_AfClPFUwZ8AVumkT-ru62DCLkThp8C4MRHHEEEfjQ_NKjQ&oe=6564B44D&_nc_sid=7b930e\"/>"
      ],
      "text/plain": [
       "<IPython.core.display.Image object>"
      ]
     },
     "metadata": {},
     "output_type": "display_data"
    },
    {
     "data": {
      "text/html": [
       "<img src=\"https://scontent-sjc3-1.cdninstagram.com/v/t51.2885-15/400814661_647784447535497_3958482074843540488_n.jpg?stp=dst-jpg_e15&efg=eyJ2ZW5jb2RlX3RhZyI6ImltYWdlX3VybGdlbi4xMDgweDE5MjAuc2RyIn0&_nc_ht=scontent-sjc3-1.cdninstagram.com&_nc_cat=109&_nc_ohc=LWuQJSAzTToAX8sjPFz&edm=AJqaXLUBAAAA&ccb=7-5&ig_cache_key=MzIzMjI4ODk2NzUyMzkzNTgwNA%3D%3D.2-ccb7-5&oh=00_AfBtIw-XgWEtczNEIUjl-k2uWfSqZCntauApXuTjFg73JQ&oe=65641F90&_nc_sid=7b930e\"/>"
      ],
      "text/plain": [
       "<IPython.core.display.Image object>"
      ]
     },
     "metadata": {},
     "output_type": "display_data"
    },
    {
     "data": {
      "text/html": [
       "<img src=\"https://scontent-sjc3-1.cdninstagram.com/v/t51.2885-15/397080158_177897001979936_4402678558498747127_n.jpg?stp=dst-jpg_e15&efg=eyJ2ZW5jb2RlX3RhZyI6ImltYWdlX3VybGdlbi4xMTc4eDIwOTYuc2RyIn0&_nc_ht=scontent-sjc3-1.cdninstagram.com&_nc_cat=1&_nc_ohc=rWIqm1oZLjUAX9_1IC8&edm=AJqaXLUBAAAA&ccb=7-5&ig_cache_key=MzIyNTcwMzMyNjY0MDM4MjE5Njk4MjY4MzQwMjc5NDA5MQ%3D%3D.2-ccb7-5&oh=00_AfB7SV3P0-UzvuRDtMzgeYw5HXjgUlB5Iw8Z3s66GYWQBQ&oe=65641FB8&_nc_sid=7b930e\"/>"
      ],
      "text/plain": [
       "<IPython.core.display.Image object>"
      ]
     },
     "metadata": {},
     "output_type": "display_data"
    },
    {
     "data": {
      "text/html": [
       "<img src=\"https://scontent-sjc3-1.cdninstagram.com/v/t51.2885-15/403433257_213736398337795_7005227196964526019_n.jpg?stp=dst-jpg_e15&efg=eyJ2ZW5jb2RlX3RhZyI6ImltYWdlX3VybGdlbi40MzR4NzcxLnNkciJ9&_nc_ht=scontent-sjc3-1.cdninstagram.com&_nc_cat=1&_nc_ohc=ovMhSt2DjSYAX9rvo4n&edm=AJqaXLUBAAAA&ccb=7-5&ig_cache_key=MzIzNzYxMDkxNzg2MjYzODY2OQ%3D%3D.2-ccb7-5&oh=00_AfCLWmTvcAClu7vQ8CRlx7xiFiKgaHhIOXESqLWMezKckQ&oe=6562E4C5&_nc_sid=7b930e\"/>"
      ],
      "text/plain": [
       "<IPython.core.display.Image object>"
      ]
     },
     "metadata": {},
     "output_type": "display_data"
    },
    {
     "data": {
      "text/html": [
       "<img src=\"https://scontent-sjc3-1.cdninstagram.com/v/t51.2885-15/403586253_1573855450017910_4438543872629071298_n.jpg?stp=dst-jpg_e15&efg=eyJ2ZW5jb2RlX3RhZyI6ImltYWdlX3VybGdlbi4xMTc5eDIwOTYuc2RyIn0&_nc_ht=scontent-sjc3-1.cdninstagram.com&_nc_cat=1&_nc_ohc=VlwZH5ChVbEAX8GnGqR&edm=AJqaXLUBAAAA&ccb=7-5&ig_cache_key=MzIzODIxNDY1NTk5NjM2MzAxMDg4MzcwNzA4MzQxODA3Ng%3D%3D.2-ccb7-5&oh=00_AfDsxkc6T7j11ehdrNY-h0W91y8dat40gK0jfMqAdG8yHA&oe=6564D283&_nc_sid=7b930e\"/>"
      ],
      "text/plain": [
       "<IPython.core.display.Image object>"
      ]
     },
     "metadata": {},
     "output_type": "display_data"
    },
    {
     "data": {
      "text/html": [
       "<img src=\"https://scontent-sjc3-1.cdninstagram.com/v/t51.2885-15/395020585_1039111897231967_8903557621293909554_n.jpg?stp=dst-jpg_e15&efg=eyJ2ZW5jb2RlX3RhZyI6ImltYWdlX3VybGdlbi43MjB4MTI4MC5zZHIifQ&_nc_ht=scontent-sjc3-1.cdninstagram.com&_nc_cat=111&_nc_ohc=UvDmBAiCwrAAX-eDkxO&edm=AJqaXLUBAAAA&ccb=7-5&ig_cache_key=MzIyMTU5MTUwODU5NTA4Mjc0NQ%3D%3D.2-ccb7-5&oh=00_AfD1ElA5H3sWT92oGZFhYkRF6CdQrGE86S1jqf55N8WS0w&oe=6563029D&_nc_sid=7b930e\"/>"
      ],
      "text/plain": [
       "<IPython.core.display.Image object>"
      ]
     },
     "metadata": {},
     "output_type": "display_data"
    },
    {
     "data": {
      "text/html": [
       "<img src=\"https://scontent-sjc3-1.cdninstagram.com/v/t51.2885-15/403931547_1383483958906463_7607164209529212329_n.jpg?stp=dst-jpg_e35&_nc_ht=scontent-sjc3-1.cdninstagram.com&_nc_cat=111&_nc_ohc=V9waWIhiNcwAX9DFjIk&edm=AJqaXLUBAAAA&ccb=7-5&ig_cache_key=MzIzOTQ4NjUzODExODQ0NzE0Mg%3D%3D.2-ccb7-5&oh=00_AfB2jPM01iwFeX6PpMRPu2c7XNxQNHHWH_QCtApzH1rAkg&oe=656420F8&_nc_sid=7b930e\"/>"
      ],
      "text/plain": [
       "<IPython.core.display.Image object>"
      ]
     },
     "metadata": {},
     "output_type": "display_data"
    }
   ],
   "source": [
    "posts = db.post.find_many(take=10, include={'images': True})\n",
    "images = [image for images in [post.images for post in posts] for image in images]\n",
    "\n",
    "from IPython.display import Image, display\n",
    "\n",
    "for image in images:\n",
    "    display(Image(url=image.url))"
   ]
  },
  {
   "cell_type": "code",
   "execution_count": 24,
   "id": "12b5d33a-2bd3-46bb-b443-81b7fb46cccb",
   "metadata": {},
   "outputs": [
    {
     "ename": "ClientNotRegisteredError",
     "evalue": "No client instance registered; You must call prisma.register(prisma.Prisma())",
     "output_type": "error",
     "traceback": [
      "\u001b[0;31m---------------------------------------------------------------------------\u001b[0m",
      "\u001b[0;31mClientNotRegisteredError\u001b[0m                  Traceback (most recent call last)",
      "Cell \u001b[0;32mIn[24], line 11\u001b[0m\n\u001b[1;32m      7\u001b[0m     url: \u001b[38;5;28mstr\u001b[39m\n\u001b[1;32m      8\u001b[0m     images: List[Image]\n\u001b[0;32m---> 11\u001b[0m \u001b[43mPostWithImages\u001b[49m\u001b[38;5;241;43m.\u001b[39;49m\u001b[43mprisma\u001b[49m\u001b[43m(\u001b[49m\u001b[43m)\u001b[49m\u001b[38;5;241m.\u001b[39mregister(db)\n\u001b[1;32m     12\u001b[0m posts \u001b[38;5;241m=\u001b[39m PostWithImages\u001b[38;5;241m.\u001b[39mprisma()\u001b[38;5;241m.\u001b[39mfind_many(take\u001b[38;5;241m=\u001b[39m\u001b[38;5;241m10\u001b[39m)\n",
      "File \u001b[0;32m~/repos/dolce/.venv/lib/python3.11/site-packages/prisma/bases.py:314\u001b[0m, in \u001b[0;36mBasePost.prisma\u001b[0;34m(cls, client)\u001b[0m\n\u001b[1;32m    310\u001b[0m \u001b[38;5;129m@classmethod\u001b[39m\n\u001b[1;32m    311\u001b[0m \u001b[38;5;28;01mdef\u001b[39;00m \u001b[38;5;21mprisma\u001b[39m(\u001b[38;5;28mcls\u001b[39m: Type[_PrismaModelT], client: Optional[\u001b[38;5;124m'\u001b[39m\u001b[38;5;124mPrisma\u001b[39m\u001b[38;5;124m'\u001b[39m] \u001b[38;5;241m=\u001b[39m \u001b[38;5;28;01mNone\u001b[39;00m) \u001b[38;5;241m-\u001b[39m\u001b[38;5;241m>\u001b[39m \u001b[38;5;124m'\u001b[39m\u001b[38;5;124mactions.PostActions[_PrismaModelT]\u001b[39m\u001b[38;5;124m'\u001b[39m:\n\u001b[1;32m    312\u001b[0m     \u001b[38;5;28;01mfrom\u001b[39;00m \u001b[38;5;21;01m.\u001b[39;00m\u001b[38;5;21;01mclient\u001b[39;00m \u001b[38;5;28;01mimport\u001b[39;00m get_client\n\u001b[0;32m--> 314\u001b[0m     \u001b[38;5;28;01mreturn\u001b[39;00m actions\u001b[38;5;241m.\u001b[39mPostActions[_PrismaModelT](client \u001b[38;5;129;01mor\u001b[39;00m \u001b[43mget_client\u001b[49m\u001b[43m(\u001b[49m\u001b[43m)\u001b[49m, \u001b[38;5;28mcls\u001b[39m)\n",
      "File \u001b[0;32m~/repos/dolce/.venv/lib/python3.11/site-packages/prisma/client.py:148\u001b[0m, in \u001b[0;36mget_client\u001b[0;34m()\u001b[0m\n\u001b[1;32m    146\u001b[0m registered \u001b[38;5;241m=\u001b[39m _registered_client\n\u001b[1;32m    147\u001b[0m \u001b[38;5;28;01mif\u001b[39;00m registered \u001b[38;5;129;01mis\u001b[39;00m \u001b[38;5;28;01mNone\u001b[39;00m:\n\u001b[0;32m--> 148\u001b[0m     \u001b[38;5;28;01mraise\u001b[39;00m errors\u001b[38;5;241m.\u001b[39mClientNotRegisteredError() \u001b[38;5;28;01mfrom\u001b[39;00m \u001b[38;5;28;01mNone\u001b[39;00m\n\u001b[1;32m    150\u001b[0m \u001b[38;5;28;01mif\u001b[39;00m \u001b[38;5;28misinstance\u001b[39m(registered, Prisma):\n\u001b[1;32m    151\u001b[0m     \u001b[38;5;28;01mreturn\u001b[39;00m registered\n",
      "\u001b[0;31mClientNotRegisteredError\u001b[0m: No client instance registered; You must call prisma.register(prisma.Prisma())"
     ]
    }
   ],
   "source": []
  },
  {
   "cell_type": "code",
   "execution_count": null,
   "id": "f6f479db-7c73-4731-9e35-8e8654cab7a2",
   "metadata": {},
   "outputs": [],
   "source": [
    "images = [post."
   ]
  }
 ],
 "metadata": {
  "kernelspec": {
   "display_name": "Python 3 (ipykernel)",
   "language": "python",
   "name": "python3"
  },
  "language_info": {
   "codemirror_mode": {
    "name": "ipython",
    "version": 3
   },
   "file_extension": ".py",
   "mimetype": "text/x-python",
   "name": "python",
   "nbconvert_exporter": "python",
   "pygments_lexer": "ipython3",
   "version": "3.11.4"
  }
 },
 "nbformat": 4,
 "nbformat_minor": 5
}
